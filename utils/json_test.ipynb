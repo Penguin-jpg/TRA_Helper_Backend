{
 "cells": [
  {
   "cell_type": "code",
   "execution_count": 2,
   "metadata": {},
   "outputs": [],
   "source": [
    "import json"
   ]
  },
  {
   "cell_type": "code",
   "execution_count": 3,
   "metadata": {},
   "outputs": [],
   "source": [
    "STATIONS_JSON = \"../data/stations_json.json\"\n",
    "TRAINS_JSON = \"../data/trains_json.json\""
   ]
  },
  {
   "cell_type": "code",
   "execution_count": 4,
   "metadata": {},
   "outputs": [],
   "source": [
    "def read_json(path):\n",
    "   with open(path, encoding=\"utf-8\") as json_file:\n",
    "      json_data = json.load(json_file)\n",
    "   return json_data"
   ]
  },
  {
   "cell_type": "code",
   "execution_count": 5,
   "metadata": {},
   "outputs": [
    {
     "data": {
      "text/plain": [
       "{'TrainNo': '1',\n",
       " 'Direction': 1,\n",
       " 'StartingStationID': '1000',\n",
       " 'StartingStationName': {'Zh_tw': '臺北', 'En': 'Taipei'},\n",
       " 'EndingStationID': '1001',\n",
       " 'EndingStationName': {'Zh_tw': '臺北-環島', 'En': 'Taipei Surround Island'},\n",
       " 'TrainTypeID': '1111',\n",
       " 'TrainTypeCode': '4',\n",
       " 'TrainTypeName': {'Zh_tw': '莒光(有身障座位)', 'En': 'Chu-Kuang Express'},\n",
       " 'TripLine': 1,\n",
       " 'WheelchairFlag': 1,\n",
       " 'PackageServiceFlag': 0,\n",
       " 'DiningFlag': 0,\n",
       " 'BikeFlag': 0,\n",
       " 'BreastFeedingFlag': 1,\n",
       " 'DailyFlag': 0,\n",
       " 'Note': {'Zh_tw': '每日行駛。環島之星觀光列車由易遊網公司承包，需搭配套裝行程，不單售車票-聯絡專線：(02)412-8001。本局於環島觀光列車附掛3節莒光號自由行車廂(第1、2、3節)，提供一般旅客訂位，本班次不發售無座票及團體票，非持本班次車票旅客，請勿搭乘。'},\n",
       " 'UpdateTime': '2022-05-06T00:00:00+08:00',\n",
       " 'VersionID': 457}"
      ]
     },
     "execution_count": 5,
     "metadata": {},
     "output_type": "execute_result"
    }
   ],
   "source": [
    "trains_json = read_json(TRAINS_JSON)\n",
    "trains_json[0]"
   ]
  },
  {
   "cell_type": "code",
   "execution_count": null,
   "metadata": {},
   "outputs": [],
   "source": []
  }
 ],
 "metadata": {
  "interpreter": {
   "hash": "05e33ef9c3ad72c8b4415567b341b05a1eff8c3bb405aaba58493c65f0d4ebf1"
  },
  "kernelspec": {
   "display_name": "Python 3.9.2 64-bit",
   "language": "python",
   "name": "python3"
  },
  "language_info": {
   "codemirror_mode": {
    "name": "ipython",
    "version": 3
   },
   "file_extension": ".py",
   "mimetype": "text/x-python",
   "name": "python",
   "nbconvert_exporter": "python",
   "pygments_lexer": "ipython3",
   "version": "3.9.2"
  },
  "orig_nbformat": 4
 },
 "nbformat": 4,
 "nbformat_minor": 2
}
